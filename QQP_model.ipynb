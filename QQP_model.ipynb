{
 "cells": [
  {
   "cell_type": "code",
   "execution_count": 28,
   "metadata": {},
   "outputs": [],
   "source": [
    "import nltk\n",
    "from models import InferSent\n",
    "import torch\n",
    "import torch.nn as nn\n",
    "from torchtext.data import Field, TabularDataset\n",
    "import torch.optim as optim\n",
    "import copy\n",
    "import numpy as np"
   ]
  },
  {
   "cell_type": "code",
   "execution_count": 11,
   "metadata": {},
   "outputs": [],
   "source": [
    "id = Field(sequential = False, use_vocab = False)\n",
    "\n",
    "id1 = Field(sequential = False, use_vocab = False)\n",
    "\n",
    "id2 = Field(sequential = False, use_vocab = False)\n",
    "\n",
    "sent1 = Field(sequential = False, # if false, no tokenization is applied.\n",
    "              use_vocab = True, #whether to use a vocab object. if false, the data is already numerical.\n",
    "              #tokenize = tokenizer,\n",
    "              lower=False)\n",
    "\n",
    "sent2 = Field(sequential = False, # if false, no tokenization is applied.\n",
    "              use_vocab = True, #whether to use a vocab object. if false, the data is already numerical.\n",
    "              #tokenize = tokenizer,\n",
    "              lower=False)\n",
    "\n",
    "labels = Field(sequential = False, use_vocab = False)\n",
    "\n",
    "fields = [('i', id), ('i1', id1), ('i2', id2), ('sent1', sent1), ('sent2', sent2), ('l', labels)]\n",
    "\n",
    "trn_data, dev_data, tst_data = TabularDataset.splits(path='/home/bozyurt20/Desktop/COMP542/Project/GLUE-baselines/glue_data/QQP/', #open the files, read them and create the Tabular\n",
    "                                              train = 'train.tsv',      #Dataset objects according to the format of the files\n",
    "                                              validation = 'dev.tsv',\n",
    "                                              test = 'test.tsv', \n",
    "                                              fields = fields, #and the field specifications.\n",
    "                                              format = 'tsv'\n",
    "                                              )\n",
    "\n",
    "#train_data, dev_data = train_var_data.split(split_ratio = 0.8)"
   ]
  },
  {
   "cell_type": "code",
   "execution_count": 15,
   "metadata": {},
   "outputs": [
    {
     "data": {
      "text/plain": [
       "'tst_sentences1 = list(tst_data.sent1)\\ntst_sentences2 = list(tst_data.sent2)\\ntst_labels = list(tst_data.l)'"
      ]
     },
     "execution_count": 15,
     "metadata": {},
     "output_type": "execute_result"
    }
   ],
   "source": [
    "trn_sentences1 = list(trn_data.sent1)[1:10001]\n",
    "trn_sentences2 = list(trn_data.sent2)[1:10001]\n",
    "trn_labels = list(trn_data.l)[1:10001]\n",
    "\n",
    "dev_sentences1 = list(dev_data.sent1)[1:2001]\n",
    "dev_sentences2 = list(dev_data.sent2)[1:2001]\n",
    "dev_labels = list(dev_data.l)[1:2001]"
   ]
  },
  {
   "cell_type": "code",
   "execution_count": 16,
   "metadata": {},
   "outputs": [],
   "source": [
    "trn_sentences = trn_sentences1 + trn_sentences2 # to build vocab out of it"
   ]
  },
  {
   "cell_type": "code",
   "execution_count": 17,
   "metadata": {},
   "outputs": [
    {
     "name": "stdout",
     "output_type": "stream",
     "text": [
      "Found 17368(/18644) words with w2v vectors\n",
      "Vocab size : 17368\n"
     ]
    }
   ],
   "source": [
    "V = 2\n",
    "MODEL_PATH = 'encoder/infersent%s.pkl' % V\n",
    "params_model = {'bsize': 64, 'word_emb_dim': 300, 'enc_lstm_dim': 2048,\n",
    "                'pool_type': 'max', 'dpout_model': 0.0, 'version': V}\n",
    "infersent = InferSent(params_model)\n",
    "infersent.load_state_dict(torch.load(MODEL_PATH))\n",
    "\n",
    "W2V_PATH = 'fastText/crawl-300d-2M.vec'\n",
    "infersent.set_w2v_path(W2V_PATH)\n",
    "\n",
    "infersent.build_vocab(trn_sentences, tokenize=True)\n"
   ]
  },
  {
   "cell_type": "code",
   "execution_count": 38,
   "metadata": {},
   "outputs": [],
   "source": [
    "trn_embeddings1 = infersent.encode(trn_sentences1, tokenize=True)\n",
    "trn_embeddings2 = infersent.encode(trn_sentences2, tokenize=True)"
   ]
  },
  {
   "cell_type": "code",
   "execution_count": 39,
   "metadata": {},
   "outputs": [],
   "source": [
    "dev_embeddings1 = infersent.encode(dev_sentences1, tokenize=True)\n",
    "dev_embeddings2 = infersent.encode(dev_sentences2, tokenize=True)"
   ]
  },
  {
   "cell_type": "code",
   "execution_count": 83,
   "metadata": {},
   "outputs": [],
   "source": [
    "class Classifier(nn.Module):\n",
    "    # define model elements\n",
    "    def __init__(self):\n",
    "        super(Classifier, self).__init__()\n",
    "        self.layer = nn.Linear(params_model['enc_lstm_dim']*8, 1)\n",
    "        self.activation = nn.Sigmoid()\n",
    " \n",
    "    # forward propagate input\n",
    "    def forward(self, X):\n",
    "        X = self.layer(X)\n",
    "        X = self.activation(X)\n",
    "        return X\n",
    "    \n",
    "device = torch.device(\"cuda:0\" if torch.cuda.is_available() else \"cpu\")\n",
    "model = Classifier()\n",
    "model.to(device)\n",
    "criterion = nn.BCEWithLogitsLoss()\n",
    "optimizer = optim.Adam(model.parameters(), lr=0.01)"
   ]
  },
  {
   "cell_type": "code",
   "execution_count": 21,
   "metadata": {},
   "outputs": [],
   "source": [
    "def binary_acc(y_pred, y_test):\n",
    "    y_pred_tag = torch.round(y_pred)\n",
    "\n",
    "    correct_results_sum = (y_pred_tag == y_test).sum().float()\n",
    "    acc = correct_results_sum/y_test.shape[0]\n",
    "    acc = torch.round(acc * 100)\n",
    "    \n",
    "    return acc"
   ]
  },
  {
   "cell_type": "code",
   "execution_count": 22,
   "metadata": {},
   "outputs": [],
   "source": [
    "no_trn_pairs = trn_embeddings1.shape[0]\n",
    "no_dev_pairs = dev_embeddings1.shape[0]    "
   ]
  },
  {
   "cell_type": "code",
   "execution_count": 24,
   "metadata": {},
   "outputs": [
    {
     "name": "stderr",
     "output_type": "stream",
     "text": [
      "<ipython-input-24-9607244eacec>:1: UserWarning: To copy construct from a tensor, it is recommended to use sourceTensor.clone().detach() or sourceTensor.clone().detach().requires_grad_(True), rather than torch.tensor(sourceTensor).\n",
      "  trn_embeddings1 = torch.tensor(trn_embeddings1, device=device)\n",
      "<ipython-input-24-9607244eacec>:2: UserWarning: To copy construct from a tensor, it is recommended to use sourceTensor.clone().detach() or sourceTensor.clone().detach().requires_grad_(True), rather than torch.tensor(sourceTensor).\n",
      "  trn_embeddings2 = torch.tensor(trn_embeddings2, device=device)\n"
     ]
    }
   ],
   "source": [
    "trn_labels = torch.tensor(list(map(int,trn_labels)), device=device)\n",
    "dev_labels = torch.tensor(list(map(int,dev_labels)), device=device)"
   ]
  },
  {
   "cell_type": "code",
   "execution_count": 68,
   "metadata": {},
   "outputs": [],
   "source": [
    "trn_u_v = []\n",
    "for i in range(no_trn_pairs):\n",
    "    u_v_abs1 = list(np.array(trn_embeddings1[i]) - np.array(trn_embeddings2[i]))\n",
    "    u_v_mult1 = np.multiply(np.array(trn_embeddings1[i]), np.array(trn_embeddings2[i]))\n",
    "    concat = np.concatenate((trn_embeddings1[i], trn_embeddings2[i], u_v_abs1, u_v_mult1))\n",
    "    trn_u_v.append(concat)"
   ]
  },
  {
   "cell_type": "code",
   "execution_count": 76,
   "metadata": {},
   "outputs": [],
   "source": [
    "dev_u_v = []\n",
    "for i in range(no_dev_pairs):\n",
    "    u_v_abs1 = list(np.array(dev_embeddings1[i]) - np.array(dev_embeddings2[i]))\n",
    "    u_v_mult1 = np.multiply(np.array(dev_embeddings1[i]), np.array(dev_embeddings2[i]))\n",
    "    concat = np.concatenate((dev_embeddings1[i], dev_embeddings2[i], u_v_abs1, u_v_mult1))\n",
    "    dev_u_v.append(concat)"
   ]
  },
  {
   "cell_type": "code",
   "execution_count": 78,
   "metadata": {},
   "outputs": [],
   "source": [
    "trn_u_v = torch.tensor(trn_u_v, device=device)\n",
    "dev_u_v = torch.tensor(dev_u_v, device=device)"
   ]
  },
  {
   "cell_type": "code",
   "execution_count": null,
   "metadata": {
    "scrolled": true
   },
   "outputs": [],
   "source": [
    "best_acc = 0.0\n",
    "for e in range(1, 101):\n",
    "    model.train()\n",
    "    epoch_loss = 0.0\n",
    "    epoch_acc = 0.0\n",
    "    for i in range(no_trn_pairs):\n",
    "        optimizer.zero_grad()\n",
    "        sent = trn_u_v[i,:]\n",
    "        with torch.set_grad_enabled(True):\n",
    "            y_pred = model(sent)      \n",
    "            label = trn_labels[i].type_as(y_pred)\n",
    "            loss = criterion(y_pred, label.unsqueeze(0))\n",
    "            acc = binary_acc(y_pred, label.unsqueeze(0))\n",
    "            loss.backward()\n",
    "            optimizer.step()\n",
    "        \n",
    "        epoch_loss += loss.item()\n",
    "        epoch_acc += acc.item()\n",
    "    model.eval()\n",
    "    dev_epoch_loss = 0.0\n",
    "    dev_epoch_acc = 0.0\n",
    "    for i in range(no_dev_pairs):\n",
    "        with torch.set_grad_enabled(False): \n",
    "            sent = dev_u_v[i,:]\n",
    "            y_pred = model(sent)      \n",
    "            label = dev_labels[i].type_as(y_pred)\n",
    "            loss = criterion(y_pred, label.unsqueeze(0))\n",
    "            acc = binary_acc(y_pred, label.unsqueeze(0))\n",
    "        \n",
    "        dev_epoch_loss += loss.item()\n",
    "        dev_epoch_acc += acc.item()\n",
    "    if dev_epoch_acc > best_acc:\n",
    "        best_acc = dev_epoch_acc\n",
    "        best_model_wts = copy.deepcopy(model.state_dict())\n",
    "      \n",
    "\n",
    "    print(f'Epoch {e+0:03}: | trn-Loss: {epoch_loss/no_trn_pairs:.5f} | trn-Acc: {epoch_acc/no_trn_pairs:.3f}')\n",
    "    print(f'Epoch {e+0:03}: | dev-Loss: {dev_epoch_loss/no_dev_pairs:.5f} | dev-Acc: {dev_epoch_acc/no_dev_pairs:.3f}')"
   ]
  }
 ],
 "metadata": {
  "kernelspec": {
   "display_name": "Python 3",
   "language": "python",
   "name": "python3"
  },
  "language_info": {
   "codemirror_mode": {
    "name": "ipython",
    "version": 3
   },
   "file_extension": ".py",
   "mimetype": "text/x-python",
   "name": "python",
   "nbconvert_exporter": "python",
   "pygments_lexer": "ipython3",
   "version": "3.8.5"
  }
 },
 "nbformat": 4,
 "nbformat_minor": 4
}
